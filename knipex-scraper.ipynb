{
 "cells": [
  {
   "cell_type": "code",
   "execution_count": null,
   "id": "27ef300b",
   "metadata": {},
   "outputs": [],
   "source": [
    "from bs4 import BeautifulSoup\n",
    "import requests\n",
    "import re\n",
    "import pandas as pd"
   ]
  },
  {
   "cell_type": "markdown",
   "id": "79f9f068",
   "metadata": {},
   "source": [
    "# To Scrape Product_url"
   ]
  },
  {
   "cell_type": "code",
   "execution_count": null,
   "id": "9d4a80f8",
   "metadata": {
    "scrolled": true
   },
   "outputs": [],
   "source": [
    "knipex_prod_url = []\n",
    "for i in range(0,40):\n",
    "    url = 'https://www.knipex.com/products?&page={}'.format(i)\n",
    "    r = requests.get(url)\n",
    "    soup = BeautifulSoup(r.text, \"html5lib\")\n",
    "    parent = soup.find_all(\"div\",{\"class\":\"knipex-product-element\"})\n",
    "    for url in parent:\n",
    "        span = url.find(\"span\",{\"class\":\"field-content\"})\n",
    "        purl = span.find('a')\n",
    "        purl = 'https://www.knipex.com'+ purl['href']\n",
    "        knipex_dict = {'product_url':purl}\n",
    "        knipex_prod_url.append(knipex_dict)    \n",
    "        \n",
    " "
   ]
  },
  {
   "cell_type": "code",
   "execution_count": null,
   "id": "b103fbe2",
   "metadata": {
    "scrolled": true
   },
   "outputs": [],
   "source": [
    "Data=pd.DataFrame(knipex_prod_url)\n",
    "Data"
   ]
  },
  {
   "cell_type": "code",
   "execution_count": null,
   "id": "28382ced",
   "metadata": {
    "scrolled": true
   },
   "outputs": [],
   "source": [
    "Data.drop_duplicates(keep=False, inplace=True)\n",
    "Data.to_csv('knipex_product_urls.csv',index=False)"
   ]
  },
  {
   "cell_type": "markdown",
   "id": "79a30e51",
   "metadata": {},
   "source": [
    "# To_Scrape_Product_Details"
   ]
  },
  {
   "cell_type": "code",
   "execution_count": null,
   "id": "6c5ca6fa",
   "metadata": {
    "scrolled": true
   },
   "outputs": [],
   "source": [
    "knipex_prod_details=[]\n",
    "product_url= pd.read_csv('knipex_product_urls.csv')\n",
    "#product_url\n",
    "for i in range(len(product_url)):\n",
    "    url=product_url['product_url'].iloc[i].format(1)\n",
    "    print(url)\n",
    "    r=requests.get(url)\n",
    "    print(r.status_code)\n",
    "    soup = BeautifulSoup(r.text, \"html5lib\")\n",
    "    parent = soup.find_all(\"article\",{\"class\":\"ProductContainer\"})\n",
    "    #print(parent)\n",
    "    for p in parent:\n",
    "        product_name = p.find(\"div\",{\"class\":\"computed_detail_title_name\"})\n",
    "        if product_name:\n",
    "                product_name=product_name.text\n",
    "        else:\n",
    "            product_name=None\n",
    "            \n",
    "        product_specs = p.find(\"div\",{\"class\":\"bulletpoint-container\"})\n",
    "        if product_specs:\n",
    "                product_specs=product_specs.text.strip()\n",
    "        else:\n",
    "            product_specs=None\n",
    "            \n",
    "        prod_cat = soup.find(\"div\",{\"id\":\"block-breadcrumbs\"})\n",
    "        if prod_cat:\n",
    "                prod_cat=prod_cat.text.split('  ')\n",
    "                prod_cat = prod_cat[8]\n",
    "        else:\n",
    "            prod_cat=None\n",
    "            \n",
    "        prod_image = p.find(\"div\",{\"class\":\"field__item\"})\n",
    "        p_image = prod_image.find(\"img\")['src']\n",
    "        if p_image:\n",
    "            p_image = 'https://www.knipex.com'+p_image\n",
    "        else:\n",
    "            p_image =None\n",
    "            \n",
    "#         technical_details = p.find_all(\"div\",{\"class\":\"key-value-class-item\"})\n",
    "#         #print(technical_details.strip())\n",
    "#         for td in technical_details:\n",
    "#             tech_det = td.text.replace(u'\\xa0', u' ')\n",
    "            \n",
    "        knipex_dict_prod={'product_Category':prod_cat,\n",
    "                          'product_name':product_name,\n",
    "                          'product_url':url,\n",
    "                          'product_image':p_image,\n",
    "                          'product_specifications':product_specs\n",
    "                         }\n",
    "        \n",
    "        knipex_prod_details.append(knipex_dict_prod)      "
   ]
  },
  {
   "cell_type": "code",
   "execution_count": null,
   "id": "41d976a9",
   "metadata": {},
   "outputs": [],
   "source": [
    "prod_details_Data=pd.DataFrame(knipex_prod_details)\n",
    "prod_details_Data"
   ]
  },
  {
   "cell_type": "code",
   "execution_count": null,
   "id": "c8bf840c",
   "metadata": {},
   "outputs": [],
   "source": [
    "prod_details_Data.to_csv('knipex_prod_details.csv',index=False)"
   ]
  }
 ],
 "metadata": {
  "kernelspec": {
   "display_name": "Python 3 (ipykernel)",
   "language": "python",
   "name": "python3"
  },
  "language_info": {
   "codemirror_mode": {
    "name": "ipython",
    "version": 3
   },
   "file_extension": ".py",
   "mimetype": "text/x-python",
   "name": "python",
   "nbconvert_exporter": "python",
   "pygments_lexer": "ipython3",
   "version": "3.8.12"
  }
 },
 "nbformat": 4,
 "nbformat_minor": 5
}
