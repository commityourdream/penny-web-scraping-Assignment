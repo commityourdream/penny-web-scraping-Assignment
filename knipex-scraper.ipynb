{
 "cells": [
  {
   "cell_type": "code",
   "execution_count": null,
   "id": "57f8044a",
   "metadata": {},
   "outputs": [],
   "source": [
    "from bs4 import BeautifulSoup\n",
    "import requests\n",
    "import re\n",
    "import pandas as pd"
   ]
  },
  {
   "cell_type": "markdown",
   "id": "3c547b73",
   "metadata": {},
   "source": [
    "# To Scrape Product_url"
   ]
  },
  {
   "cell_type": "code",
   "execution_count": null,
   "id": "7fb47cab",
   "metadata": {
    "scrolled": true
   },
   "outputs": [],
   "source": [
    "knipex_prod_url = []\n",
    "for i in range(0,40):\n",
    "    url = 'https://www.knipex.com/products?&page={}'.format(i)\n",
    "    r = requests.get(url)\n",
    "    soup = BeautifulSoup(r.text, \"html5lib\")\n",
    "    parent = soup.find_all(\"div\",{\"class\":\"knipex-product-element\"})\n",
    "    for url in parent:\n",
    "        span = url.find(\"span\",{\"class\":\"field-content\"})\n",
    "        purl = span.find('a')\n",
    "        purl = 'https://www.knipex.com'+ purl['href']\n",
    "        knipex_dict = {'product_url':purl}\n",
    "        knipex_prod_url.append(knipex_dict)    \n",
    "        \n",
    " "
   ]
  },
  {
   "cell_type": "code",
   "execution_count": null,
   "id": "26b6dbb1",
   "metadata": {
    "scrolled": true
   },
   "outputs": [],
   "source": [
    "Data=pd.DataFrame(knipex_prod_url)\n",
    "Data"
   ]
  },
  {
   "cell_type": "code",
   "execution_count": null,
   "id": "305de068",
   "metadata": {
    "scrolled": true
   },
   "outputs": [],
   "source": [
    "Data.drop_duplicates(keep=False, inplace=True)\n",
    "Data.to_csv('knipex_product_urls.csv',index=False)"
   ]
  },
  {
   "cell_type": "markdown",
   "id": "c0c73265",
   "metadata": {},
   "source": [
    "# To_Scrape_Product_Details"
   ]
  },
  {
   "cell_type": "code",
   "execution_count": null,
   "id": "00124c34",
   "metadata": {
    "scrolled": true
   },
   "outputs": [],
   "source": [
    "knipex_prod_details=[]\n",
    "product_url= pd.read_csv('knipex_product_urls.csv')\n",
    "#product_url\n",
    "for i in range(len(product_url)):\n",
    "    url=product_url['product_url'].iloc[i].format(1)\n",
    "    print(url)\n",
    "    try:\n",
    "        r=requests.get(url)\n",
    "        print(r.status_code)\n",
    "        soup = BeautifulSoup(r.text, \"html5lib\")\n",
    "        parent = soup.find_all(\"article\",{\"class\":\"ProductContainer\"})\n",
    "        #print(parent)\n",
    "        for p in parent:\n",
    "            product_name = p.find(\"div\",{\"class\":\"computed_detail_title_name\"})\n",
    "            if product_name:\n",
    "                    product_name=product_name.text\n",
    "            else:\n",
    "                product_name=None\n",
    "\n",
    "            product_specs = p.find(\"div\",{\"class\":\"bulletpoint-container\"})\n",
    "            if product_specs:\n",
    "                    product_specs=product_specs.text.strip()\n",
    "            else:\n",
    "                product_specs=None\n",
    "\n",
    "            prod_cat = soup.find(\"div\",{\"id\":\"block-breadcrumbs\"})\n",
    "            if prod_cat:\n",
    "                    prod_cat=prod_cat.text.split('  ')\n",
    "                    prod_cat = prod_cat[8]\n",
    "            else:\n",
    "                prod_cat=None\n",
    "\n",
    "            prod_image = p.find(\"div\",{\"class\":\"field__item\"})\n",
    "            p_image = prod_image.find(\"img\")['src']\n",
    "            if p_image:\n",
    "                p_image = 'https://www.knipex.com'+p_image\n",
    "            else:\n",
    "                p_image =None\n",
    "\n",
    "            technical_details = p.find_all(\"div\",{\"class\":\"key-value-class-item\"})\n",
    "            #print(technical_details.strip())\n",
    "            if technical_details:\n",
    "                tech_details = []\n",
    "                for td in technical_details:\n",
    "                    key = td.find(\"div\",{\"class\":\"value\"})\n",
    "                    tech_details.append(key.text.replace(\"\\n\", \"\"))\n",
    "                print(tech_details)\n",
    "            else:\n",
    "                tech_details =None\n",
    "              \n",
    "\n",
    "\n",
    "            knipex_dict_prod={'product_Category':prod_cat,\n",
    "                              'product_name':product_name,\n",
    "                              'product_url':url,\n",
    "                              'Article No.':tech_details[0],\n",
    "                              'EAN':tech_details[1],\n",
    "                              'Pliers':tech_details[2],\n",
    "                              'Head':tech_details[3],\n",
    "                              'Handles':tech_details[4],\n",
    "                              'Weight':tech_details[5],\n",
    "                              'Dimensions':tech_details[6],\n",
    "                              'Standard':tech_details[7],\n",
    "                              'REACH compliant':tech_details[8],\n",
    "                              'RohS compliant':tech_details[9],\n",
    "                              'Cutting capacity copper cable, multiple-stranded':tech_details[10],\n",
    "                              'Cutting capacity copper cable, multiple-stranded':tech_details[11],\n",
    "                              'Stripping capacity for cross-sections':tech_details[12],\n",
    "                              'Capacity in square millimetres':tech_details[13],\n",
    "                              'AWG':tech_details[14],\n",
    "                              'VDE tested':tech_details[15],\n",
    "                              'product_image':p_image,\n",
    "                              'product_specifications':product_specs\n",
    "                             }\n",
    "\n",
    "            knipex_prod_details.append(knipex_dict_prod) \n",
    "    except Exception as e:\n",
    "        print(e)\n",
    "print('Done')"
   ]
  },
  {
   "cell_type": "code",
   "execution_count": null,
   "id": "2f6c91c6",
   "metadata": {},
   "outputs": [],
   "source": [
    "prod_details_Data=pd.DataFrame(knipex_prod_details)\n",
    "prod_details_Data"
   ]
  },
  {
   "cell_type": "code",
   "execution_count": null,
   "id": "b76bec0c",
   "metadata": {},
   "outputs": [],
   "source": [
    "prod_details_Data.to_csv('knipex_prod_details.csv',index=False)"
   ]
  },
  {
   "cell_type": "code",
   "execution_count": null,
   "id": "b123244d",
   "metadata": {},
   "outputs": [],
   "source": []
  }
 ],
 "metadata": {
  "kernelspec": {
   "display_name": "Python 3 (ipykernel)",
   "language": "python",
   "name": "python3"
  },
  "language_info": {
   "codemirror_mode": {
    "name": "ipython",
    "version": 3
   },
   "file_extension": ".py",
   "mimetype": "text/x-python",
   "name": "python",
   "nbconvert_exporter": "python",
   "pygments_lexer": "ipython3",
   "version": "3.8.12"
  }
 },
 "nbformat": 4,
 "nbformat_minor": 5
}
